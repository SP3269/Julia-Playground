{
 "cells": [
  {
   "cell_type": "markdown",
   "metadata": {},
   "source": [
    "**Problem 3, IMO 1988**\n",
    "\n",
    "A function f is defined on the positive integers by: f(1) = 1; f(3) = 3; f(2n) = f(n), f(4n + 1) = 2f(2n + 1) - f(n), and f(4n + 3) = 3f(2n + 1) - 2f(n) for all positive integers n. Determine the number of positive integers n less than or equal to 1988 for which f(n) = n. (from [here](https://prase.cz/kalva/imo/isoln/isoln883.html))"
   ]
  },
  {
   "cell_type": "code",
   "execution_count": 1,
   "metadata": {},
   "outputs": [
    {
     "data": {
      "text/plain": [
       "f (generic function with 1 method)"
      ]
     },
     "execution_count": 1,
     "metadata": {},
     "output_type": "execute_result"
    }
   ],
   "source": [
    "function f(n::Int)\n",
    "    if n == 1 \n",
    "        1\n",
    "    elseif n == 3\n",
    "        3\n",
    "    elseif mod(n, 2) == 0\n",
    "        f(n÷2)\n",
    "    elseif mod(n, 4) == 1\n",
    "        m = (n-1)÷4\n",
    "        2*f(2*m+1) - f(m)\n",
    "    elseif mod(n, 4) == 3\n",
    "        m = (n-3)÷4\n",
    "        3*f(2*m+1) - 2*f(m)\n",
    "    end\n",
    "end"
   ]
  },
  {
   "cell_type": "code",
   "execution_count": 2,
   "metadata": {},
   "outputs": [
    {
     "data": {
      "text/plain": [
       "isfixedpoint (generic function with 1 method)"
      ]
     },
     "execution_count": 2,
     "metadata": {},
     "output_type": "execute_result"
    }
   ],
   "source": [
    "isfixedpoint(f,x) = (f(x) == x) ? true : false"
   ]
  },
  {
   "cell_type": "markdown",
   "metadata": {},
   "source": [
    "***Calculating the IMO problem solution***"
   ]
  },
  {
   "cell_type": "code",
   "execution_count": 10,
   "metadata": {},
   "outputs": [
    {
     "data": {
      "text/plain": [
       "92"
      ]
     },
     "execution_count": 10,
     "metadata": {},
     "output_type": "execute_result"
    }
   ],
   "source": [
    "mapreduce(x -> isfixedpoint(f,x), +, 1:1988)"
   ]
  },
  {
   "cell_type": "markdown",
   "metadata": {},
   "source": [
    "***Playing with performance***"
   ]
  },
  {
   "cell_type": "code",
   "execution_count": 11,
   "metadata": {},
   "outputs": [
    {
     "name": "stdout",
     "output_type": "stream",
     "text": [
      " 19.096489 seconds (73.44 k allocations: 3.515 MiB)\n"
     ]
    },
    {
     "data": {
      "text/plain": [
       "2001"
      ]
     },
     "execution_count": 11,
     "metadata": {},
     "output_type": "execute_result"
    }
   ],
   "source": [
    "@time mapreduce(x -> isfixedpoint(f,x), +, 1:1001988)"
   ]
  },
  {
   "cell_type": "code",
   "execution_count": 14,
   "metadata": {},
   "outputs": [
    {
     "name": "stdout",
     "output_type": "stream",
     "text": [
      " 19.251413 seconds (70.55 k allocations: 3.400 MiB)\n"
     ]
    },
    {
     "data": {
      "text/plain": [
       "2001"
      ]
     },
     "execution_count": 14,
     "metadata": {},
     "output_type": "execute_result"
    }
   ],
   "source": [
    "@time mapreduce(x -> (f(x) == x), +, 1:1001988)"
   ]
  },
  {
   "cell_type": "code",
   "execution_count": 21,
   "metadata": {},
   "outputs": [
    {
     "name": "stdout",
     "output_type": "stream",
     "text": [
      " 19.110554 seconds (1.49 k allocations: 23.281 KiB)\n",
      "2001\n"
     ]
    }
   ],
   "source": [
    "res = 0\n",
    "@time for i in 1:1001988\n",
    "    if f(i) == i\n",
    "        global res\n",
    "        res = res +1\n",
    "    end\n",
    "end\n",
    "println(res)"
   ]
  },
  {
   "cell_type": "markdown",
   "metadata": {},
   "source": [
    "**Distributed version**\n",
    "Using all CPU cores on the local system, can be run on clusters!\n",
    "Note that global definitions aren't automatically synchronised between workers, thus @everywhere"
   ]
  },
  {
   "cell_type": "code",
   "execution_count": 17,
   "metadata": {},
   "outputs": [
    {
     "name": "stdout",
     "output_type": "stream",
     "text": [
      "Number of processors: 9\n",
      "  6.032024 seconds (87.71 k allocations: 4.323 MiB)\n"
     ]
    },
    {
     "data": {
      "text/plain": [
       "2001"
      ]
     },
     "execution_count": 17,
     "metadata": {},
     "output_type": "execute_result"
    }
   ],
   "source": [
    "rmprocs(workers())\n",
    "addprocs() # Adds number of local cores by default\n",
    "println(\"Number of processors: \", nprocs())\n",
    "\n",
    "@everywhere function f(n::Int)\n",
    "    if n == 1 \n",
    "        1\n",
    "    elseif n == 3\n",
    "        3\n",
    "    elseif mod(n, 2) == 0\n",
    "        f(n÷2)\n",
    "    elseif mod(n, 4) == 1\n",
    "        m = (n-1)÷4\n",
    "        2*f(2*m+1) - f(m)\n",
    "    elseif mod(n, 4) == 3\n",
    "        m = (n-3)÷4\n",
    "        3*f(2*m+1) - 2*f(m)\n",
    "    end\n",
    "end\n",
    "\n",
    "@time @distributed (+) for x = 1:1001988\n",
    "    x == f(x) ? 1 : 0\n",
    "end\n"
   ]
  },
  {
   "cell_type": "code",
   "execution_count": null,
   "metadata": {},
   "outputs": [],
   "source": []
  }
 ],
 "metadata": {
  "kernelspec": {
   "display_name": "Julia 1.3.0",
   "language": "julia",
   "name": "julia-1.3"
  },
  "language_info": {
   "file_extension": ".jl",
   "mimetype": "application/julia",
   "name": "julia",
   "version": "1.3.0"
  }
 },
 "nbformat": 4,
 "nbformat_minor": 2
}
