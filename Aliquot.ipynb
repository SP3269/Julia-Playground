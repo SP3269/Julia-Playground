{
 "cells": [
  {
   "cell_type": "markdown",
   "metadata": {},
   "source": [
    "## Aliquot Sequences\n",
    "\n",
    "This is Julia implementation of Aliquot sequence calculator (ref. https://challenges.wolfram.com/challenge/aliquot-sequence).\n",
    "\n",
    "Using: integer arithmetic, sets.\n",
    "\n",
    "First, we define the proper divisor function - for any integer, returning set of the divisors. This is ~ from Rosetta Code (https://rosettacode.org/wiki/Proper_divisors#Julia) - I couldn't come up with smarter, more efficient approach:"
   ]
  },
  {
   "cell_type": "code",
   "execution_count": 1,
   "metadata": {},
   "outputs": [
    {
     "data": {
      "text/plain": [
       "properdivisors (generic function with 1 method)"
      ]
     },
     "execution_count": 1,
     "metadata": {},
     "output_type": "execute_result"
    }
   ],
   "source": [
    "# Requires Primes package added\n",
    "using Primes\n",
    "\n",
    "function properdivisors(n::T) where {T<:Integer}\n",
    "    0 < n || throw(ArgumentError(\"number to be factored must be ≥ 0, got $n\"))\n",
    "    1 < n || return T[]\n",
    "    !isprime(n) || return T[one(T)]\n",
    "    f = factor(n)\n",
    "    d = T[one(T)]\n",
    "    for (k, v) in f\n",
    "        c = T[k^i for i in 0:v]\n",
    "        d = d*c'\n",
    "        d = reshape(d, length(d))\n",
    "    end\n",
    "    sort!(d)\n",
    "    return d[1:end-1]\n",
    "end"
   ]
  },
  {
   "cell_type": "markdown",
   "metadata": {},
   "source": [
    "Now, we generate Aliquot sequence for integer k, with maximum number of elements m"
   ]
  },
  {
   "cell_type": "code",
   "execution_count": 2,
   "metadata": {},
   "outputs": [
    {
     "data": {
      "text/plain": [
       "AliquotSequence (generic function with 2 methods)"
      ]
     },
     "execution_count": 2,
     "metadata": {},
     "output_type": "execute_result"
    }
   ],
   "source": [
    "function AliquotSequence(k::T, m::Int64=100; print::Bool=false) where {T<:Integer}\n",
    "    \n",
    "    print && println(\"AliquotSequence is called with k = \", k)\n",
    "    \n",
    "    s = [k]\n",
    "    for j in 1:m-1\n",
    "        next = sum(properdivisors(s[end]))\n",
    "        print && println(next)\n",
    "        next == 0 && break\n",
    "        next in s ? break : push!(s, next)\n",
    "    end\n",
    "    \n",
    "    return s\n",
    "    \n",
    "end\n",
    "    "
   ]
  },
  {
   "cell_type": "markdown",
   "metadata": {},
   "source": [
    "Now, let's check the numbers from 2 to 2000 for the length (up to 1000) and print those not repeating or reducing to 1 within 100 elements, with the maximum of the aliquot sequence"
   ]
  },
  {
   "cell_type": "code",
   "execution_count": null,
   "metadata": {
    "scrolled": true
   },
   "outputs": [
    {
     "name": "stdout",
     "output_type": "stream",
     "text": [
      "138 508132204\n",
      "150 508132204\n",
      "168 508132204\n",
      "222 508132204\n",
      "234 508132204\n",
      "276 21374326697892540932\n",
      "306 21374326697892540932\n",
      "312 508132204\n",
      "396 22138822441861473292\n",
      "528 508132204\n",
      "552 520472208892277964\n",
      "564 1034002020631818\n",
      "570 508132204\n",
      "660 4820965110804\n",
      "696 23780027782003162628\n",
      "702 7483271439420\n",
      "720 2100700764036\n",
      "726 508132204\n",
      "780 1454075262184182\n",
      "828 4820965110804\n",
      "840 7014387670775906008012\n",
      "858 41683781196584\n",
      "870 508132204\n",
      "888 947162005047505716\n",
      "936 3538667495752\n",
      "960 508132204\n",
      "966 53164796729714236\n",
      "978 19285028182980\n",
      "990 48485555197884\n",
      "996 4820965110804\n",
      "1044 968456265084\n",
      "1062 19285028182980\n",
      "1074 19014020506\n",
      "1086 19014020506\n",
      "1098 19014020506\n",
      "1104 27022045182026917372\n",
      "1134 1727556864277298328733800\n",
      "1146 41683781196584\n",
      "1158 41683781196584\n",
      "1170 41683781196584\n",
      "1218 9891746908428384301080\n",
      "1230 3538667495752\n",
      "1248 6612929753457172\n",
      "1266 19285028182980\n",
      "1278 48485555197884\n",
      "1290 745600776\n",
      "1302 1727556864277298328733800\n",
      "1314 1454075262184182\n",
      "1316 205780934846\n",
      "1320 19014020506\n",
      "1326 2100700764036\n",
      "1338 53164796729714292\n",
      "1350 88607994549524044\n",
      "1356 6508880956876\n",
      "1372 205780934846\n",
      "1392 1728907301581674060\n",
      "1398 53164796729714236\n",
      "1410 53164796729714292\n",
      "1422 2100700764036\n",
      "1428 205780934846\n",
      "1440 91621492377156\n"
     ]
    }
   ],
   "source": [
    "m = 100\n",
    "for i in 2:2000\n",
    "    seq = AliquotSequence(BigInt(i), m)\n",
    "    if length(seq) == m\n",
    "        # printstyled(length(seq), color = (length(seq) == m ? :red : :black))\n",
    "        println(i, \" \", maximum(seq))\n",
    "    end\n",
    "end"
   ]
  },
  {
   "cell_type": "code",
   "execution_count": null,
   "metadata": {},
   "outputs": [],
   "source": []
  }
 ],
 "metadata": {
  "kernelspec": {
   "display_name": "Julia 1.4.1",
   "language": "julia",
   "name": "julia-1.4"
  },
  "language_info": {
   "file_extension": ".jl",
   "mimetype": "application/julia",
   "name": "julia",
   "version": "1.4.1"
  }
 },
 "nbformat": 4,
 "nbformat_minor": 2
}
