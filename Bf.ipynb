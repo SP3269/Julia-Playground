{
 "cells": [
  {
   "cell_type": "markdown",
   "metadata": {},
   "source": [
    "## brainfuck in Julia\n",
    "An exercise in string parsing and esoteric languages. References:\n",
    "* https://en.wikipedia.org/wiki/Brainfuck\n",
    "* https://learnxinyminutes.com/docs/bf/"
   ]
  },
  {
   "cell_type": "code",
   "execution_count": 50,
   "metadata": {},
   "outputs": [
    {
     "data": {
      "text/plain": [
       "\",>,< [ > [ >+ >+ << -] >> [- << + >>] <<< -] >>\""
      ]
     },
     "execution_count": 50,
     "metadata": {},
     "output_type": "execute_result"
    }
   ],
   "source": [
    "bfcode = \",>,< [ > [ >+ >+ << -] >> [- << + >>] <<< -] >>\"\n",
    "# bfcode = \"++++++ [ > ++++++++++ < - ] > +++++ .\""
   ]
  },
  {
   "cell_type": "code",
   "execution_count": 51,
   "metadata": {},
   "outputs": [
    {
     "data": {
      "text/plain": [
       "\",>,<[>[>+>+<<-]>>[-<<+>>]<<<-]>>\""
      ]
     },
     "execution_count": 51,
     "metadata": {},
     "output_type": "execute_result"
    }
   ],
   "source": [
    "bfcode = replace(bfcode, r\"[^\\+\\-\\<\\>\\.\\,\\[\\]]\" => s\"\") # Eliminating all extranious characters in the code"
   ]
  },
  {
   "cell_type": "markdown",
   "metadata": {},
   "source": [
    "Initial processing: identifying pairs of \\[ and \\], and populating two arrays with indexes (positions of the brackets in the bf code)"
   ]
  },
  {
   "cell_type": "code",
   "execution_count": 52,
   "metadata": {},
   "outputs": [
    {
     "data": {
      "text/plain": [
       "0-element Array{Any,1}"
      ]
     },
     "execution_count": 52,
     "metadata": {},
     "output_type": "execute_result"
    }
   ],
   "source": [
    "indexopen = [] # Array of the left sqare bracket positions"
   ]
  },
  {
   "cell_type": "code",
   "execution_count": 53,
   "metadata": {},
   "outputs": [
    {
     "data": {
      "text/plain": [
       "0-element Array{Any,1}"
      ]
     },
     "execution_count": 53,
     "metadata": {},
     "output_type": "execute_result"
    }
   ],
   "source": [
    "indexclose = [] # Array of the matching right square bracket positions"
   ]
  },
  {
   "cell_type": "code",
   "execution_count": 54,
   "metadata": {},
   "outputs": [
    {
     "data": {
      "text/plain": [
       "0-element Array{Any,1}"
      ]
     },
     "execution_count": 54,
     "metadata": {},
     "output_type": "execute_result"
    }
   ],
   "source": [
    "brstack = [] # Stack for matching bracket positions"
   ]
  },
  {
   "cell_type": "code",
   "execution_count": 55,
   "metadata": {},
   "outputs": [],
   "source": [
    "n = length(bfcode)\n",
    "\n",
    "for i=1:n\n",
    "    if bfcode[i] == '['\n",
    "        append!(indexopen,i)\n",
    "        append!(indexclose,0)\n",
    "        push!(brstack,length(indexopen))\n",
    "        # println(stderr,\"[ \", i, \" \", length(indexo))\n",
    "    elseif bfcode[i] == ']'\n",
    "        j = pop!(brstack)\n",
    "        indexclose[j] = i\n",
    "        # println(stderr,\"]\", i, length(brstack))\n",
    "    end\n",
    "end\n"
   ]
  },
  {
   "cell_type": "code",
   "execution_count": 56,
   "metadata": {},
   "outputs": [
    {
     "data": {
      "text/plain": [
       "3×2 Array{Int64,2}:\n",
       "  5  30\n",
       "  7  15\n",
       " 18  25"
      ]
     },
     "execution_count": 56,
     "metadata": {},
     "output_type": "execute_result"
    }
   ],
   "source": [
    "[indexopen indexclose]"
   ]
  },
  {
   "cell_type": "code",
   "execution_count": 57,
   "metadata": {},
   "outputs": [],
   "source": [
    "# Verify matching [ and ]\n",
    "\n",
    "if length(brstack) != 0 # Should begin and end with empty call stack\n",
    "    error(\"Mismatching number of [ and ]\")\n",
    "end"
   ]
  },
  {
   "cell_type": "code",
   "execution_count": 60,
   "metadata": {},
   "outputs": [
    {
     "data": {
      "text/plain": [
       "1"
      ]
     },
     "execution_count": 60,
     "metadata": {},
     "output_type": "execute_result"
    }
   ],
   "source": [
    "cells = Array{UInt8,1}\n",
    "cells = [0 for i=1:30000] # 30000 from the classic implementation\n",
    "ptr = 1 # Pointer to the current position in the code\n",
    "cellno = 1 # Current cell number"
   ]
  },
  {
   "cell_type": "markdown",
   "metadata": {},
   "source": [
    "**Main loop**"
   ]
  },
  {
   "cell_type": "code",
   "execution_count": 62,
   "metadata": {},
   "outputs": [
    {
     "name": "stdout",
     "output_type": "stream",
     "text": [
      "stdin> 2\n",
      "stdin> 3\n"
     ]
    }
   ],
   "source": [
    "while ptr<=n\n",
    "    global cellno\n",
    "    cmd = bfcode[ptr]\n",
    "    if cmd=='+'\n",
    "        cells[cellno] = cells[cellno]+1\n",
    "    elseif cmd=='-'\n",
    "        cells[cellno] = cells[cellno]-1\n",
    "    elseif cmd=='>'\n",
    "        cellno = cellno+1\n",
    "    elseif cmd=='<'\n",
    "        cellno = cellno-1\n",
    "    elseif cmd=='.'\n",
    "        print(Char(cells[cellno]))\n",
    "    elseif cmd==','\n",
    "        in = readline()\n",
    "        cells[cellno] = tryparse(UInt8,in) # nullable parser of the input string; can use error handling here - expect number! \n",
    "    elseif cmd=='['\n",
    "        if cells[cellno]==0\n",
    "            ptr = indexclose[findfirst(isequal(ptr),indexopen)]\n",
    "        end\n",
    "    elseif cmd==']'\n",
    "        if cells[cellno]!=0\n",
    "            ptr = indexopen[findfirst(isequal(ptr),indexclose)]\n",
    "        end\n",
    "    end\n",
    "    @debug \"Executed $cmd at $ptr. Current cell # $(cellno)\\t$(cells[cellno])\"\n",
    "    ptr = ptr+1\n",
    "end\n"
   ]
  },
  {
   "cell_type": "code",
   "execution_count": 63,
   "metadata": {},
   "outputs": [
    {
     "data": {
      "text/plain": [
       "6"
      ]
     },
     "execution_count": 63,
     "metadata": {},
     "output_type": "execute_result"
    }
   ],
   "source": [
    "cells[cellno]"
   ]
  },
  {
   "cell_type": "code",
   "execution_count": null,
   "metadata": {},
   "outputs": [],
   "source": []
  }
 ],
 "metadata": {
  "kernelspec": {
   "display_name": "Julia 1.0.0",
   "language": "julia",
   "name": "julia-1.0"
  },
  "language_info": {
   "file_extension": ".jl",
   "mimetype": "application/julia",
   "name": "julia",
   "version": "1.0.0"
  }
 },
 "nbformat": 4,
 "nbformat_minor": 2
}
